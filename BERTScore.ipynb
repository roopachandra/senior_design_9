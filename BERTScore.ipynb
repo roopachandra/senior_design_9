{
 "cells": [
  {
   "cell_type": "code",
   "execution_count": 1,
   "metadata": {},
   "outputs": [],
   "source": [
    "# Import Pandas\n",
    "import pandas as pd\n"
   ]
  },
  {
   "cell_type": "code",
   "execution_count": 2,
   "metadata": {},
   "outputs": [
    {
     "name": "stdout",
     "output_type": "stream",
     "text": [
      "Collecting bert-score\n",
      "  Downloading https://files.pythonhosted.org/packages/47/d5/df44286c8bffc1e38730e889688b03a1a3c2575d673cb7028fd9b185f05b/bert_score-0.2.2-py3-none-any.whl\n",
      "Collecting tqdm>=4.31.1 (from bert-score)\n",
      "\u001b[?25l  Downloading https://files.pythonhosted.org/packages/a5/13/cd55c23e3e158ed5b87cae415ee3844fc54cb43803fa3a0a064d23ecb883/tqdm-4.40.0-py2.py3-none-any.whl (54kB)\n",
      "\u001b[K    100% |████████████████████████████████| 61kB 3.5MB/s ta 0:00:01\n",
      "\u001b[?25hRequirement already satisfied: requests in /opt/conda/lib/python3.6/site-packages (from bert-score) (2.21.0)\n",
      "Collecting transformers>=2.2.0 (from bert-score)\n",
      "\u001b[?25l  Downloading https://files.pythonhosted.org/packages/ec/e7/0a1babead1b79afabb654fbec0a052e0d833ba4205a6dfd98b1aeda9c82e/transformers-2.2.0-py3-none-any.whl (360kB)\n",
      "\u001b[K    100% |████████████████████████████████| 368kB 7.2MB/s ta 0:00:011\n",
      "\u001b[?25hRequirement already satisfied: matplotlib in /opt/conda/lib/python3.6/site-packages (from bert-score) (2.2.3)\n",
      "Requirement already satisfied: numpy in /opt/conda/lib/python3.6/site-packages (from bert-score) (1.16.1)\n",
      "Collecting torch>=1.0.0 (from bert-score)\n",
      "\u001b[?25l  Downloading https://files.pythonhosted.org/packages/88/95/90e8c4c31cfc67248bf944ba42029295b77159982f532c5689bcfe4e9108/torch-1.3.1-cp36-cp36m-manylinux1_x86_64.whl (734.6MB)\n"
     ]
    },
    {
     "name": "stdout",
     "output_type": "stream",
     "text": [
      "\u001b[K    31% |██████████                      | 231.8MB 10.3MB/s eta 0:00:49 0% |                                | 430kB 6.1MB/s eta 0:02:02    0% |▎                               | 7.2MB 10.5MB/s eta 0:01:10    2% |▋                               | 14.8MB 16.3MB/s eta 0:00:45    2% |▉                               | 17.9MB 14.0MB/s eta 0:00:52    2% |▉                               | 18.4MB 12.0MB/s eta 0:01:00    2% |▉                               | 19.6MB 13.7MB/s eta 0:00:53    3% |█▏                              | 26.6MB 11.3MB/s eta 0:01:03    4% |█▎                              | 29.7MB 2.8MB/s eta 0:04:09    4% |█▍                              | 31.4MB 11.0MB/s eta 0:01:04    4% |█▍                              | 32.5MB 8.3MB/s eta 0:01:25    4% |█▌                              | 33.7MB 10.9MB/s eta 0:01:05    4% |█▌                              | 34.2MB 14.4MB/s eta 0:00:49    6% |██▏                             | 50.9MB 12.9MB/s eta 0:00:54    7% |██▎                             | 52.0MB 8.3MB/s eta 0:01:23    7% |██▎                             | 52.7MB 13.7MB/s eta 0:00:50    8% |██▋                             | 59.8MB 12.0MB/s eta 0:00:57    8% |██▉                             | 65.9MB 15.3MB/s eta 0:00:44    9% |███                             | 68.3MB 3.0MB/s eta 0:03:41    9% |███                             | 68.7MB 6.5MB/s eta 0:01:43    10% |███▍                            | 77.1MB 10.1MB/s eta 0:01:06    12% |███▉                            | 88.3MB 3.8MB/s eta 0:02:51    12% |███▉                            | 88.8MB 11.6MB/s eta 0:00:56    12% |████                            | 90.9MB 11.4MB/s eta 0:00:57    12% |████                            | 92.0MB 16.7MB/s eta 0:00:39    12% |████                            | 92.8MB 18.2MB/s eta 0:00:36    12% |████                            | 93.6MB 8.3MB/s eta 0:01:17    12% |████                            | 94.2MB 8.3MB/s eta 0:01:18    12% |████▏                           | 94.5MB 5.3MB/s eta 0:02:02    12% |████▏                           | 95.5MB 5.4MB/s eta 0:01:58    13% |████▏                           | 95.8MB 6.9MB/s eta 0:01:33    13% |████▎                           | 98.3MB 8.2MB/s eta 0:01:18    13% |████▎                           | 98.9MB 6.8MB/s eta 0:01:34    13% |████▍                           | 100.8MB 6.5MB/s eta 0:01:38    13% |████▍                           | 101.7MB 7.4MB/s eta 0:01:26    13% |████▌                           | 102.6MB 8.5MB/s eta 0:01:15    14% |████▌                           | 103.5MB 6.3MB/s eta 0:01:40    14% |████▌                           | 104.1MB 12.9MB/s eta 0:00:49    14% |████▊                           | 109.1MB 4.2MB/s eta 0:02:30    15% |████▉                           | 110.2MB 6.3MB/s eta 0:01:39    15% |█████                           | 112.7MB 8.0MB/s eta 0:01:19    15% |█████                           | 113.5MB 6.2MB/s eta 0:01:41    15% |█████                           | 114.4MB 6.5MB/s eta 0:01:36    16% |█████▎                          | 122.0MB 10.0MB/s eta 0:01:02    16% |█████▎                          | 122.4MB 8.7MB/s eta 0:01:11    16% |█████▍                          | 124.2MB 633kB/s eta 0:16:04    16% |█████▍                          | 124.8MB 5.3MB/s eta 0:01:54    17% |█████▍                          | 124.9MB 606kB/s eta 0:16:46    17% |█████▌                          | 126.7MB 2.5MB/s eta 0:03:59    17% |█████▊                          | 131.0MB 4.9MB/s eta 0:02:03    17% |█████▊                          | 131.3MB 5.3MB/s eta 0:01:54    18% |█████▉                          | 133.5MB 6.9MB/s eta 0:01:28    18% |██████                          | 137.9MB 7.1MB/s eta 0:01:24    19% |██████▏                         | 141.4MB 5.9MB/s eta 0:01:41    19% |██████▍                         | 145.8MB 8.7MB/s eta 0:01:09    20% |██████▍                         | 147.4MB 8.3MB/s eta 0:01:11    20% |██████▌                         | 148.8MB 9.0MB/s eta 0:01:06    20% |██████▌                         | 150.4MB 2.9MB/s eta 0:03:21    20% |██████▋                         | 151.2MB 4.2MB/s eta 0:02:18    20% |██████▋                         | 152.9MB 3.2MB/s eta 0:03:00    20% |██████▊                         | 153.1MB 3.9MB/s eta 0:02:30    20% |██████▊                         | 153.4MB 3.7MB/s eta 0:02:37    20% |██████▊                         | 153.6MB 4.1MB/s eta 0:02:23    21% |██████▊                         | 154.9MB 4.3MB/s eta 0:02:14    21% |██████▉                         | 155.9MB 4.5MB/s eta 0:02:09    21% |███████                         | 159.1MB 7.6MB/s eta 0:01:16    22% |███████▏                        | 165.3MB 3.3MB/s eta 0:02:50    23% |███████▌                        | 171.5MB 13.1MB/s eta 0:00:44    23% |███████▌                        | 173.0MB 5.4MB/s eta 0:01:44    24% |███████▊                        | 177.8MB 6.0MB/s eta 0:01:33    24% |███████▊                        | 178.2MB 9.7MB/s eta 0:00:58    24% |███████▉                        | 178.6MB 8.9MB/s eta 0:01:03    24% |████████                        | 181.1MB 6.8MB/s eta 0:01:21    24% |████████                        | 182.9MB 6.3MB/s eta 0:01:28    24% |████████                        | 183.5MB 7.7MB/s eta 0:01:12    25% |████████                        | 184.2MB 8.0MB/s eta 0:01:09    25% |████████▏                       | 186.6MB 5.3MB/s eta 0:01:43    25% |████████▏                       | 186.9MB 5.3MB/s eta 0:01:44    25% |████████▏                       | 187.1MB 3.3MB/s eta 0:02:46    25% |████████▏                       | 187.4MB 3.4MB/s eta 0:02:41    25% |████████▏                       | 188.1MB 8.2MB/s eta 0:01:07    25% |████████▎                       | 188.8MB 6.4MB/s eta 0:01:26    25% |████████▎                       | 189.2MB 8.2MB/s eta 0:01:0726% |████████▍                       | 193.0MB 12.9MB/s eta 0:00:42 193.2MB 33.6MB/s eta 0:00:17    | 194.7MB 14.0MB/s eta 0:00:39    26% |████████▌                       | 195.1MB 8.2MB/s eta 0:01:06    26% |████████▋                       | 196.6MB 4.6MB/s eta 0:01:57    26% |████████▋                       | 197.5MB 4.1MB/s eta 0:02:13    26% |████████▋                       | 197.8MB 7.3MB/s eta 0:01:14    27% |████████▊                       | 200.0MB 10.1MB/s eta 0:00:54    28% |█████████                       | 205.7MB 6.7MB/s eta 0:01:19    28% |█████████                       | 207.0MB 6.7MB/s eta 0:01:19    28% |█████████▏                      | 210.8MB 5.7MB/s eta 0:01:33    28% |█████████▏                      | 211.7MB 6.8MB/s eta 0:01:17    30% |█████████▋                      | 220.4MB 9.0MB/s eta 0:00:58    30% |█████████▊                      | 223.2MB 12.4MB/s eta 0:00:42    31% |██████████                      | 228.1MB 7.2MB/s eta 0:01:11    31% |██████████                      | 228.7MB 8.6MB/s eta 0:01:00    31% |██████████                      | 231.3MB 18.0MB/s eta 0:00:28\r",
      "\u001b[K    31% |██████████                      | 231.8MB 10.0MB/s eta 0:00:51\r",
      "\u001b[K    31% |██████████                      | 231.8MB 10.3MB/s eta 0:00:49\r",
      "\u001b[K    31% |██████████                      | 231.9MB 10.2MB/s eta 0:00:50\r",
      "\u001b[K    31% |██████████                      | 231.9MB 10.6MB/s eta 0:00:48\r",
      "\u001b[K    31% |██████████                      | 231.9MB 7.7MB/s eta 0:01:06\r",
      "\u001b[K    31% |██████████                      | 231.9MB 7.5MB/s eta 0:01:07\r",
      "\u001b[K    31% |██████████                      | 231.9MB 10.3MB/s eta 0:00:49\r",
      "\u001b[K    31% |██████████                      | 231.9MB 10.5MB/s eta 0:00:48\r",
      "\u001b[K    31% |██████████                      | 231.9MB 11.0MB/s eta 0:00:46\r",
      "\u001b[K    31% |██████████                      | 231.9MB 14.5MB/s eta 0:00:35\r",
      "\u001b[K    31% |██████████                      | 231.9MB 12.3MB/s eta 0:00:41\r",
      "\u001b[K    31% |██████████                      | 231.9MB 12.4MB/s eta 0:00:41\r",
      "\u001b[K    31% |██████████                      | 232.0MB 11.6MB/s eta 0:00:44\r",
      "\u001b[K    31% |██████████                      | 232.0MB 11.3MB/s eta 0:00:45\r",
      "\u001b[K    31% |██████████                      | 232.0MB 10.4MB/s eta 0:00:49\r",
      "\u001b[K    31% |██████████                      | 232.0MB 8.8MB/s eta 0:00:58\r",
      "\u001b[K    31% |██████████                      | 232.0MB 8.4MB/s eta 0:01:01\r",
      "\u001b[K    31% |██████████                      | 232.0MB 7.9MB/s eta 0:01:04\r",
      "\u001b[K    31% |██████████                      | 232.0MB 7.6MB/s eta 0:01:07\r",
      "\u001b[K    31% |██████████                      | 232.0MB 7.4MB/s eta 0:01:09\r",
      "\u001b[K    31% |██████████                      | 232.0MB 7.3MB/s eta 0:01:10\r",
      "\u001b[K    31% |██████████                      | 232.0MB 7.1MB/s eta 0:01:11\r",
      "\u001b[K    31% |██████████                      | 232.1MB 7.2MB/s eta 0:01:10\r",
      "\u001b[K    31% |██████████                      | 232.1MB 6.7MB/s eta 0:01:16\r",
      "\u001b[K    31% |██████████                      | 232.1MB 9.4MB/s eta 0:00:54\r",
      "\u001b[K    31% |██████████                      | 232.1MB 10.9MB/s eta 0:00:46\r",
      "\u001b[K    31% |██████████                      | 232.1MB 11.2MB/s eta 0:00:46\r",
      "\u001b[K    31% |██████████▏                     | 232.1MB 11.4MB/s eta 0:00:45\r",
      "\u001b[K    31% |██████████▏                     | 232.1MB 11.0MB/s eta 0:00:46\r",
      "\u001b[K    31% |██████████▏                     | 232.1MB 11.4MB/s eta 0:00:45\r",
      "\u001b[K    31% |██████████▏                     | 232.1MB 12.7MB/s eta 0:00:40\r",
      "\u001b[K    31% |██████████▏                     | 232.2MB 13.3MB/s eta 0:00:38\r",
      "\u001b[K    31% |██████████▏                     | 232.2MB 14.3MB/s eta 0:00:36\r",
      "\u001b[K    31% |██████████▏                     | 232.2MB 12.8MB/s eta 0:00:40\r",
      "\u001b[K    31% |██████████▏                     | 232.2MB 12.1MB/s eta 0:00:42\r",
      "\u001b[K    31% |██████████▏                     | 232.2MB 12.1MB/s eta 0:00:42\r",
      "\u001b[K    31% |██████████▏                     | 232.2MB 11.2MB/s eta 0:00:45\r",
      "\u001b[K    31% |██████████▏                     | 232.2MB 11.5MB/s eta 0:00:44\r",
      "\u001b[K    31% |██████████▏                     | 232.2MB 9.6MB/s eta 0:00:53\r",
      "\u001b[K    31% |██████████▏                     | 232.2MB 9.1MB/s eta 0:00:56\r",
      "\u001b[K    31% |██████████▏                     | 232.2MB 9.3MB/s eta 0:00:54\r",
      "\u001b[K    31% |██████████▏                     | 232.3MB 9.2MB/s eta 0:00:55\r",
      "\u001b[K    31% |██████████▏                     | 232.3MB 7.9MB/s eta 0:01:04\r",
      "\u001b[K    31% |██████████▏                     | 232.3MB 9.4MB/s eta 0:00:54\r",
      "\u001b[K    31% |██████████▏                     | 232.3MB 10.2MB/s eta 0:00:50\r",
      "\u001b[K    31% |██████████▏                     | 232.3MB 10.6MB/s eta 0:00:48\r",
      "\u001b[K    31% |██████████▏                     | 232.3MB 10.3MB/s eta 0:00:49\r",
      "\u001b[K    31% |██████████▏                     | 232.3MB 10.3MB/s eta 0:00:49\r",
      "\u001b[K    31% |██████████▏                     | 232.3MB 12.9MB/s eta 0:00:39\r",
      "\u001b[K    31% |██████████▏                     | 232.3MB 12.5MB/s eta 0:00:41\r",
      "\u001b[K    31% |██████████▏                     | 232.3MB 12.3MB/s eta 0:00:41\r",
      "\u001b[K    31% |██████████▏                     | 232.4MB 11.8MB/s eta 0:00:43"
     ]
    },
    {
     "name": "stdout",
     "output_type": "stream",
     "text": [
      "\u001b[K    61% |███████████████████▋            | 451.1MB 8.5MB/s eta 0:00:349 -1 day, 23:59:449█▎                     | 236.1MB 14.0MB/s eta 0:00:36    32% |██████████▍                     | 238.1MB 10.2MB/s eta 0:00:49    32% |██████████▌                     | 239.9MB 8.3MB/s eta 0:01:00    32% |██████████▌                     | 240.4MB 16.6MB/s eta 0:00:30    33% |██████████▊                     | 246.5MB 6.2MB/s eta 0:01:19    33% |██████████▉                     | 247.8MB 6.2MB/s eta 0:01:19    33% |██████████▉                     | 248.2MB 5.7MB/s eta 0:01:26    34% |███████████                     | 253.1MB 8.2MB/s eta 0:00:59    35% |███████████▍                    | 262.7MB 17.3MB/s eta 0:00:28    35% |███████████▌                    | 263.1MB 7.1MB/s eta 0:01:07    36% |███████████▋                    | 265.4MB 9.1MB/s eta 0:00:52    36% |███████████▊                    | 267.9MB 2.8MB/s eta 0:02:46    37% |███████████▉                    | 272.7MB 7.3MB/s eta 0:01:03    37% |████████████                    | 276.4MB 3.8MB/s eta 0:02:02    37% |████████████▏                   | 278.5MB 1.6MB/s eta 0:04:41    38% |████████████▏                   | 280.0MB 3.6MB/s eta 0:02:06    38% |████████████▎                   | 281.0MB 2.6MB/s eta 0:02:58    38% |████████████▎                   | 281.1MB 1.7MB/s eta 0:04:28    38% |████████████▎                   | 281.4MB 5.4MB/s eta 0:01:25    38% |████████████▎                   | 281.6MB 1.8MB/s eta 0:04:07    38% |████████████▍                   | 284.9MB 3.8MB/s eta 0:01:58    38% |████████████▍                   | 285.6MB 4.5MB/s eta 0:01:40    39% |████████████▌                   | 286.5MB 4.9MB/s eta 0:01:31    39% |████████████▌                   | 286.7MB 3.3MB/s eta 0:02:16    39% |████████████▋                   | 288.8MB 3.6MB/s eta 0:02:06    39% |████████████▊                   | 291.3MB 6.6MB/s eta 0:01:08    39% |████████████▊                   | 291.6MB 4.0MB/s eta 0:01:53    39% |████████████▊                   | 291.9MB 4.4MB/s eta 0:01:41    39% |████████████▊                   | 292.2MB 6.6MB/s eta 0:01:08    39% |████████████▊                   | 293.2MB 5.6MB/s eta 0:01:19    40% |████████████▉                   | 294.4MB 1.7MB/s eta 0:04:23    40% |████████████▉                   | 295.2MB 3.8MB/s eta 0:01:58    40% |█████████████                   | 298.9MB 10.4MB/s eta 0:00:43    40% |█████████████                   | 299.7MB 8.5MB/s eta 0:00:52    41% |█████████████▏                  | 303.0MB 7.3MB/s eta 0:01:00    41% |█████████████▏                  | 303.4MB 7.2MB/s eta 0:01:00    41% |█████████████▎                  | 304.5MB 11.4MB/s eta 0:00:38    41% |█████████████▎                  | 305.5MB 8.7MB/s eta 0:00:50    41% |█████████████▍                  | 307.9MB 10.7MB/s eta 0:00:40    42% |█████████████▌                  | 309.0MB 10.5MB/s eta 0:00:41    42% |█████████████▋                  | 313.5MB 8.3MB/s eta 0:00:51    43% |█████████████▊                  | 315.9MB 5.0MB/s eta 0:01:24    43% |█████████████▉                  | 316.4MB 8.3MB/s eta 0:00:51    43% |█████████████▉                  | 317.0MB 6.5MB/s eta 0:01:05    43% |█████████████▉                  | 317.6MB 9.8MB/s eta 0:00:43    43% |█████████████▉                  | 318.1MB 8.2MB/s eta 0:00:51    43% |██████████████                  | 320.3MB 7.6MB/s eta 0:00:55    44% |██████████████                  | 323.6MB 13.6MB/s eta 0:00:31��█████████████▏                 | 324.8MB 30.4MB/s eta 0:00:14    44% |██████████████▎                 | 328.0MB 3.0MB/s eta 0:02:14    45% |██████████████▍                 | 331.4MB 7.5MB/s eta 0:00:54    45% |██████████████▌                 | 332.8MB 3.4MB/s eta 0:01:58    45% |██████████████▌                 | 333.9MB 10.5MB/s eta 0:00:39    45% |██████████████▋                 | 336.6MB 4.3MB/s eta 0:01:34    45% |██████████████▊                 | 337.2MB 9.3MB/s eta 0:00:43    46% |██████████████▊                 | 338.1MB 9.6MB/s eta 0:00:42    46% |███████████████                 | 342.4MB 5.3MB/s eta 0:01:14    46% |███████████████                 | 344.4MB 12.9MB/s eta 0:00:31    46% |███████████████                 | 344.9MB 2.8MB/s eta 0:02:22    47% |███████████████▏                | 348.7MB 7.9MB/s eta 0:00:49    47% |███████████████▎                | 350.8MB 1.3MB/s eta 0:05:04    47% |███████████████▎                | 351.4MB 6.1MB/s eta 0:01:03    47% |███████████████▎                | 351.9MB 2.5MB/s eta 0:02:33    48% |███████████████▍                | 354.0MB 5.5MB/s eta 0:01:10    48% |███████████████▌                | 355.5MB 4.8MB/s eta 0:01:19    48% |███████████████▌                | 355.9MB 8.1MB/s eta 0:00:47    48% |███████████████▌                | 356.9MB 2.6MB/s eta 0:02:27    48% |███████████████▋                | 357.2MB 6.3MB/s eta 0:01:01    48% |███████████████▋                | 357.9MB 6.6MB/s eta 0:00:57    48% |███████████████▋                | 359.0MB 2.6MB/s eta 0:02:25    48% |███████████████▋                | 359.4MB 1.8MB/s eta 0:03:34    49% |███████████████▊                | 359.9MB 3.0MB/s eta 0:02:07    49% |███████████████▊                | 360.2MB 23.3MB/s eta 0:00:17    49% |███████████████▉                | 362.2MB 5.7MB/s eta 0:01:06    49% |███████████████▉                | 363.2MB 5.1MB/s eta 0:01:13    49% |███████████████▉                | 363.9MB 3.8MB/s eta 0:01:37    49% |████████████████                | 365.6MB 4.7MB/s eta 0:01:19    49% |████████████████                | 366.3MB 5.7MB/s eta 0:01:05    50% |████████████████▏               | 370.9MB 5.5MB/s eta 0:01:07    50% |████████████████▎               | 372.7MB 7.3MB/s eta 0:00:50��█▎               | 372.9MB 5.2MB/s eta 0:01:10    51% |████████████████▍               | 377.0MB 7.2MB/s eta 0:00:50    51% |████████████████▋               | 381.6MB 4.6MB/s eta 0:01:17    51% |████████████████▋               | 381.9MB 9.4MB/s eta 0:00:38    52% |████████████████▊               | 384.1MB 5.7MB/s eta 0:01:02    52% |████████████████▊               | 384.9MB 14.3MB/s eta 0:00:25    52% |████████████████▉               | 385.2MB 3.3MB/s eta 0:01:45    53% |█████████████████               | 392.6MB 5.1MB/s eta 0:01:08    53% |█████████████████▏              | 394.2MB 6.6MB/s eta 0:00:52    54% |█████████████████▎              | 397.5MB 3.7MB/s eta 0:01:31    54% |█████████████████▍              | 398.6MB 4.5MB/s eta 0:01:15    54% |█████████████████▍              | 398.9MB 6.3MB/s eta 0:00:54    54% |█████████████████▌              | 400.7MB 6.4MB/s eta 0:00:53    54% |█████████████████▌              | 401.5MB 6.0MB/s eta 0:00:56    55% |█████████████████▊              | 405.9MB 13.0MB/s eta 0:00:26    55% |█████████████████▊              | 406.6MB 5.8MB/s eta 0:00:57    55% |█████████████████▊              | 407.7MB 6.1MB/s eta 0:00:54    55% |█████████████████▉              | 408.1MB 8.1MB/s eta 0:00:41    55% |█████████████████▉              | 408.6MB 9.4MB/s eta 0:00:35    55% |█████████████████▉              | 409.0MB 9.0MB/s eta 0:00:36    55% |█████████████████▉              | 409.8MB 3.5MB/s eta 0:01:33    56% |██████████████████              | 411.7MB 696kB/s eta 0:07:44    56% |██████████████████              | 412.8MB 6.3MB/s eta 0:00:52    56% |██████████████████              | 412.9MB 18.2MB/s eta 0:00:18    56% |██████████████████              | 414.9MB 8.2MB/s eta 0:00:40    56% |██████████████████▏             | 417.7MB 6.0MB/s eta 0:00:53    57% |██████████████████▎             | 419.1MB 6.2MB/s eta 0:00:51    57% |██████████████████▍             | 423.1MB 13.8MB/s eta 0:00:23    57% |██████████████████▌             | 425.8MB 4.8MB/s eta 0:01:04    58% |██████████████████▊             | 429.0MB 8.1MB/s eta 0:00:38    58% |██████████████████▉             | 431.7MB 6.1MB/s eta 0:00:50    58% |██████████████████▉             | 432.0MB 5.4MB/s eta 0:00:56    59% |███████████████████▏            | 438.9MB 5.5MB/s eta 0:00:54    60% |███████████████████▍            | 445.3MB 26.2MB/s eta 0:00:12    60% |███████████████████▌            | 446.6MB 5.3MB/s eta 0:00:55    61% |███████████████████▋            | 450.4MB 17.5MB/s eta 0:00:17    61% |███████████████████▋            | 450.7MB 3.6MB/s eta 0:01:20"
     ]
    },
    {
     "name": "stdout",
     "output_type": "stream",
     "text": [
      "\u001b[K    100% |████████████████████████████████| 734.6MB 11kB/s eta 0:00:011��██▊            | 454.0MB 23.6MB/s eta 0:00:12    62% |████████████████████            | 461.3MB 3.0MB/s eta 0:01:33    63% |████████████████████▏           | 463.3MB 3.1MB/s eta 0:01:29    63% |████████████████████▏           | 463.7MB 2.6MB/s eta 0:01:43    63% |████████████████████▎           | 464.6MB 5.7MB/s eta 0:00:48    63% |████████████████████▎           | 464.9MB 5.3MB/s eta 0:00:51    63% |████████████████████▎           | 465.7MB 4.8MB/s eta 0:00:56    63% |████████████████████▎           | 466.6MB 5.2MB/s eta 0:00:52    64% |████████████████████▋           | 473.0MB 5.4MB/s eta 0:00:49    65% |████████████████████▉           | 478.0MB 8.2MB/s eta 0:00:32    65% |█████████████████████           | 483.5MB 12.4MB/s eta 0:00:21    66% |█████████████████████▍          | 490.2MB 7.6MB/s eta 0:00:33    67% |█████████████████████▌          | 493.5MB 9.1MB/s eta 0:00:27    67% |█████████████████████▌          | 493.9MB 6.4MB/s eta 0:00:38    67% |█████████████████████▌          | 494.3MB 7.3MB/s eta 0:00:33    67% |█████████████████████▋          | 495.9MB 12.9MB/s eta 0:00:19    67% |█████████████████████▊          | 499.0MB 8.2MB/s eta 0:00:29    68% |█████████████████████▉          | 501.1MB 12.7MB/s eta 0:00:19    68% |██████████████████████          | 504.3MB 7.5MB/s eta 0:00:31    69% |██████████████████████▏         | 509.8MB 5.5MB/s eta 0:00:41    70% |██████████████████████▋         | 518.9MB 7.1MB/s eta 0:00:31    71% |██████████████████████▉         | 523.4MB 3.8MB/s eta 0:00:56    71% |██████████████████████▉         | 524.2MB 5.2MB/s eta 0:00:41    72% |███████████████████████▎        | 533.1MB 7.3MB/s eta 0:00:28    76% |████████████████████████▋       | 563.8MB 5.5MB/s eta 0:00:32    76% |████████████████████████▋       | 565.4MB 6.5MB/s eta 0:00:27    77% |████████████████████████▊       | 568.5MB 4.4MB/s eta 0:00:38    77% |████████████████████████▉       | 568.9MB 5.7MB/s eta 0:00:30    78% |█████████████████████████       | 573.6MB 5.1MB/s eta 0:00:32    78% |█████████████████████████       | 575.5MB 3.6MB/s eta 0:00:44    78% |█████████████████████████       | 576.1MB 4.7MB/s eta 0:00:34    78% |█████████████████████████       | 576.4MB 5.8MB/s eta 0:00:28    78% |█████████████████████████▏      | 578.8MB 6.0MB/s eta 0:00:26    79% |█████████████████████████▍      | 582.1MB 6.1MB/s eta 0:00:25    79% |█████████████████████████▍      | 584.0MB 5.0MB/s eta 0:00:31    81% |██████████████████████████      | 598.4MB 10.3MB/s eta 0:00:14    81% |██████████████████████████      | 599.3MB 10.4MB/s eta 0:00:14    81% |██████████████████████████▏     | 601.1MB 9.2MB/s eta 0:00:15    81% |██████████████████████████▏     | 601.9MB 5.5MB/s eta 0:00:24    82% |██████████████████████████▎     | 603.2MB 8.2MB/s eta 0:00:17    82% |██████████████████████████▍     | 604.7MB 6.5MB/s eta 0:00:20    82% |██████████████████████████▌     | 607.5MB 9.6MB/s eta 0:00:14    82% |██████████████████████████▌     | 609.5MB 8.7MB/s eta 0:00:15    83% |██████████████████████████▋     | 609.9MB 3.9MB/s eta 0:00:32�████████████████████▋     | 610.2MB 6.6MB/s eta 0:00:19    83% |██████████████████████████▊     | 613.3MB 6.6MB/s eta 0:00:19█████████████████████████▉     | 616.6MB 25.4MB/s eta 0:00:05��███████████████████▉     | 616.9MB 8.2MB/s eta 0:00:15██████████     | 617.3MB 4.0MB/s eta 0:00:30████████     | 619.2MB 13.9MB/s eta 0:00:09    84% |███████████████████████████     | 622.2MB 4.8MB/s eta 0:00:24�████████████████▏    | 623.9MB 34.7MB/s eta 0:00:04    85% |███████████████████████████▏    | 624.8MB 10.6MB/s eta 0:00:11    85% |███████████████████████████▍    | 627.5MB 2.7MB/s eta 0:00:41    86% |███████████████████████████▋    | 634.1MB 7.9MB/s eta 0:00:13    87% |████████████████████████████    | 640.4MB 8.2MB/s eta 0:00:12    87% |████████████████████████████▏   | 645.7MB 13.7MB/s eta 0:00:07    89% |████████████████████████████▊   | 659.3MB 11.6MB/s eta 0:00:07    90% |████████████████████████████▉   | 662.8MB 13.0MB/s eta 0:00:06    91% |█████████████████████████████▏  | 668.5MB 10.7MB/s eta 0:00:07�█████████████▍  | 674.5MB 21.3MB/s eta 0:00:03    92% |█████████████████████████████▌  | 677.9MB 11.2MB/s eta 0:00:065MB/s eta 0:00:02    92% |█████████████████████████████▊  | 682.0MB 2.4MB/s eta 0:00:22    92% |█████████████████████████████▊  | 682.9MB 2.7MB/s eta 0:00:20    93% |█████████████████████████████▉  | 685.2MB 8.9MB/s eta 0:00:06    93% |█████████████████████████████▉  | 685.6MB 9.8MB/s eta 0:00:06    93% |██████████████████████████████  | 686.4MB 9.4MB/s eta 0:00:06    93% |██████████████████████████████  | 687.3MB 8.2MB/s eta 0:00:06    93% |██████████████████████████████  | 687.7MB 10.7MB/s eta 0:00:05��██████████████████▏ | 692.2MB 14.7MB/s eta 0:00:03��██▏ | 692.7MB 14.7MB/s eta 0:00:03█████████████████████▏ | 692.8MB 17.2MB/s eta 0:00:03    95% |██████████████████████████████▍ | 698.8MB 10.9MB/s eta 0:00:04    95% |██████████████████████████████▌ | 700.4MB 2.3MB/s eta 0:00:16    96% |██████████████████████████████▉ | 707.6MB 6.2MB/s eta 0:00:05    97% |███████████████████████████████▏| 716.1MB 12.3MB/s eta 0:00:02    97% |███████████████████████████████▏| 716.5MB 9.3MB/s eta 0:00:02    98% |███████████████████████████████▌| 722.7MB 7.8MB/s eta 0:00:02    99% |████████████████████████████████| 734.1MB 5.7MB/s eta 0:00:01\n",
      "\u001b[?25hRequirement already satisfied: idna<2.9,>=2.5 in /opt/conda/lib/python3.6/site-packages (from requests->bert-score) (2.8)\n",
      "Requirement already satisfied: certifi>=2017.4.17 in /opt/conda/lib/python3.6/site-packages (from requests->bert-score) (2018.11.29)\n",
      "Requirement already satisfied: urllib3<1.25,>=1.21.1 in /opt/conda/lib/python3.6/site-packages (from requests->bert-score) (1.24.1)\n",
      "Requirement already satisfied: chardet<3.1.0,>=3.0.2 in /opt/conda/lib/python3.6/site-packages (from requests->bert-score) (3.0.4)\n",
      "Requirement already satisfied: boto3 in /opt/conda/lib/python3.6/site-packages (from transformers>=2.2.0->bert-score) (1.9.137)\n",
      "Collecting regex (from transformers>=2.2.0->bert-score)\n",
      "\u001b[?25l  Downloading https://files.pythonhosted.org/packages/e3/8e/cbf2295643d7265e7883326fb4654e643bfc93b3a8a8274d8010a39d8804/regex-2019.11.1-cp36-cp36m-manylinux1_x86_64.whl (643kB)\n",
      "\u001b[K    100% |████████████████████████████████| 645kB 6.9MB/s ta 0:00:011\n",
      "\u001b[?25hCollecting sentencepiece (from transformers>=2.2.0->bert-score)\n",
      "\u001b[?25l  Downloading https://files.pythonhosted.org/packages/14/3d/efb655a670b98f62ec32d66954e1109f403db4d937c50d779a75b9763a29/sentencepiece-0.1.83-cp36-cp36m-manylinux1_x86_64.whl (1.0MB)\n",
      "\u001b[K    100% |████████████████████████████████| 1.0MB 11.3MB/s ta 0:00:01\n",
      "\u001b[?25hCollecting sacremoses (from transformers>=2.2.0->bert-score)\n",
      "\u001b[?25l  Downloading https://files.pythonhosted.org/packages/1f/8e/ed5364a06a9ba720fddd9820155cc57300d28f5f43a6fd7b7e817177e642/sacremoses-0.0.35.tar.gz (859kB)\n",
      "\u001b[K    100% |████████████████████████████████| 860kB 5.0MB/s ta 0:00:011\n",
      "\u001b[?25hRequirement already satisfied: cycler>=0.10 in /opt/conda/lib/python3.6/site-packages (from matplotlib->bert-score) (0.10.0)\n",
      "Requirement already satisfied: pyparsing!=2.0.4,!=2.1.2,!=2.1.6,>=2.0.1 in /opt/conda/lib/python3.6/site-packages (from matplotlib->bert-score) (2.3.1)\n",
      "Requirement already satisfied: python-dateutil>=2.1 in /opt/conda/lib/python3.6/site-packages (from matplotlib->bert-score) (2.8.0)\n",
      "Requirement already satisfied: pytz in /opt/conda/lib/python3.6/site-packages (from matplotlib->bert-score) (2018.9)\n",
      "Requirement already satisfied: six>=1.10 in /opt/conda/lib/python3.6/site-packages (from matplotlib->bert-score) (1.12.0)\n",
      "Requirement already satisfied: kiwisolver>=1.0.1 in /opt/conda/lib/python3.6/site-packages (from matplotlib->bert-score) (1.0.1)\n",
      "Requirement already satisfied: jmespath<1.0.0,>=0.7.1 in /opt/conda/lib/python3.6/site-packages (from boto3->transformers>=2.2.0->bert-score) (0.9.4)\n",
      "Requirement already satisfied: s3transfer<0.3.0,>=0.2.0 in /opt/conda/lib/python3.6/site-packages (from boto3->transformers>=2.2.0->bert-score) (0.2.0)\n",
      "Requirement already satisfied: botocore<1.13.0,>=1.12.137 in /opt/conda/lib/python3.6/site-packages (from boto3->transformers>=2.2.0->bert-score) (1.12.137)\n",
      "Requirement already satisfied: click in /opt/conda/lib/python3.6/site-packages (from sacremoses->transformers>=2.2.0->bert-score) (7.0)\n"
     ]
    },
    {
     "name": "stdout",
     "output_type": "stream",
     "text": [
      "Collecting joblib (from sacremoses->transformers>=2.2.0->bert-score)\n",
      "\u001b[?25l  Downloading https://files.pythonhosted.org/packages/8f/42/155696f85f344c066e17af287359c9786b436b1bf86029bb3411283274f3/joblib-0.14.0-py2.py3-none-any.whl (294kB)\n",
      "\u001b[K    100% |████████████████████████████████| 296kB 16.1MB/s a 0:00:01��████████████████████▏| 286kB 6.1MB/s eta 0:00:01\n",
      "\u001b[?25hRequirement already satisfied: setuptools in /opt/conda/lib/python3.6/site-packages (from kiwisolver>=1.0.1->matplotlib->bert-score) (40.8.0)\n",
      "Requirement already satisfied: docutils>=0.10 in /opt/conda/lib/python3.6/site-packages (from botocore<1.13.0,>=1.12.137->boto3->transformers>=2.2.0->bert-score) (0.14)\n",
      "Building wheels for collected packages: sacremoses\n",
      "  Building wheel for sacremoses (setup.py) ... \u001b[?25ldone\n",
      "\u001b[?25h  Stored in directory: /home/jovyan/.cache/pip/wheels/63/2a/db/63e2909042c634ef551d0d9ac825b2b0b32dede4a6d87ddc94\n",
      "Successfully built sacremoses\n",
      "Installing collected packages: tqdm, regex, sentencepiece, joblib, sacremoses, transformers, torch, bert-score\n",
      "Successfully installed bert-score-0.2.2 joblib-0.14.0 regex-2019.11.1 sacremoses-0.0.35 sentencepiece-0.1.83 torch-1.3.1 tqdm-4.40.0 transformers-2.2.0\n",
      "Note: you may need to restart the kernel to use updated packages.\n"
     ]
    }
   ],
   "source": [
    "# Install BERTScore from pip by\n",
    "pip install bert-score"
   ]
  },
  {
   "cell_type": "code",
   "execution_count": 8,
   "metadata": {},
   "outputs": [
    {
     "name": "stdout",
     "output_type": "stream",
     "text": [
      "Cloning into 'bert_score'...\n",
      "remote: Enumerating objects: 118, done.\u001b[K\n",
      "remote: Counting objects: 100% (118/118), done.\u001b[K\n",
      "remote: Compressing objects: 100% (72/72), done.\u001b[K\n",
      "remote: Total 247 (delta 60), reused 83 (delta 46), pack-reused 129\u001b[K\n",
      "Receiving objects: 100% (247/247), 806.29 KiB | 637.00 KiB/s, done.\n",
      "Resolving deltas: 100% (127/127), done.\n"
     ]
    }
   ],
   "source": [
    "# Install from open source\n",
    "# import git\n",
    "!git clone https://github.com/Tiiiger/bert_score"
   ]
  },
  {
   "cell_type": "code",
   "execution_count": 21,
   "metadata": {},
   "outputs": [
    {
     "name": "stdout",
     "output_type": "stream",
     "text": [
      "/home/jovyan/work/senior-design/bert_score\n"
     ]
    }
   ],
   "source": [
    "cd bert_score"
   ]
  },
  {
   "cell_type": "code",
   "execution_count": 22,
   "metadata": {},
   "outputs": [
    {
     "name": "stdout",
     "output_type": "stream",
     "text": [
      "Processing /home/jovyan/work/senior-design/bert_score\n",
      "Requirement already satisfied: torch>=1.0.0 in /opt/conda/lib/python3.6/site-packages (from bert-score==0.2.2) (1.3.1)\n",
      "Requirement already satisfied: numpy in /opt/conda/lib/python3.6/site-packages (from bert-score==0.2.2) (1.16.1)\n",
      "Requirement already satisfied: requests in /opt/conda/lib/python3.6/site-packages (from bert-score==0.2.2) (2.21.0)\n",
      "Requirement already satisfied: tqdm>=4.31.1 in /opt/conda/lib/python3.6/site-packages (from bert-score==0.2.2) (4.40.0)\n",
      "Requirement already satisfied: matplotlib in /opt/conda/lib/python3.6/site-packages (from bert-score==0.2.2) (2.2.3)\n",
      "Requirement already satisfied: transformers>=2.2.0 in /opt/conda/lib/python3.6/site-packages (from bert-score==0.2.2) (2.2.0)\n",
      "Requirement already satisfied: urllib3<1.25,>=1.21.1 in /opt/conda/lib/python3.6/site-packages (from requests->bert-score==0.2.2) (1.24.1)\n",
      "Requirement already satisfied: certifi>=2017.4.17 in /opt/conda/lib/python3.6/site-packages (from requests->bert-score==0.2.2) (2018.11.29)\n",
      "Requirement already satisfied: idna<2.9,>=2.5 in /opt/conda/lib/python3.6/site-packages (from requests->bert-score==0.2.2) (2.8)\n",
      "Requirement already satisfied: chardet<3.1.0,>=3.0.2 in /opt/conda/lib/python3.6/site-packages (from requests->bert-score==0.2.2) (3.0.4)\n",
      "Requirement already satisfied: cycler>=0.10 in /opt/conda/lib/python3.6/site-packages (from matplotlib->bert-score==0.2.2) (0.10.0)\n",
      "Requirement already satisfied: pyparsing!=2.0.4,!=2.1.2,!=2.1.6,>=2.0.1 in /opt/conda/lib/python3.6/site-packages (from matplotlib->bert-score==0.2.2) (2.3.1)\n",
      "Requirement already satisfied: python-dateutil>=2.1 in /opt/conda/lib/python3.6/site-packages (from matplotlib->bert-score==0.2.2) (2.8.0)\n",
      "Requirement already satisfied: pytz in /opt/conda/lib/python3.6/site-packages (from matplotlib->bert-score==0.2.2) (2018.9)\n",
      "Requirement already satisfied: six>=1.10 in /opt/conda/lib/python3.6/site-packages (from matplotlib->bert-score==0.2.2) (1.12.0)\n",
      "Requirement already satisfied: kiwisolver>=1.0.1 in /opt/conda/lib/python3.6/site-packages (from matplotlib->bert-score==0.2.2) (1.0.1)\n",
      "Requirement already satisfied: sacremoses in /opt/conda/lib/python3.6/site-packages (from transformers>=2.2.0->bert-score==0.2.2) (0.0.35)\n",
      "Requirement already satisfied: boto3 in /opt/conda/lib/python3.6/site-packages (from transformers>=2.2.0->bert-score==0.2.2) (1.9.137)\n",
      "Requirement already satisfied: regex in /opt/conda/lib/python3.6/site-packages (from transformers>=2.2.0->bert-score==0.2.2) (2019.11.1)\n",
      "Requirement already satisfied: sentencepiece in /opt/conda/lib/python3.6/site-packages (from transformers>=2.2.0->bert-score==0.2.2) (0.1.83)\n",
      "Requirement already satisfied: setuptools in /opt/conda/lib/python3.6/site-packages (from kiwisolver>=1.0.1->matplotlib->bert-score==0.2.2) (40.8.0)\n",
      "Requirement already satisfied: click in /opt/conda/lib/python3.6/site-packages (from sacremoses->transformers>=2.2.0->bert-score==0.2.2) (7.0)\n",
      "Requirement already satisfied: joblib in /opt/conda/lib/python3.6/site-packages (from sacremoses->transformers>=2.2.0->bert-score==0.2.2) (0.14.0)\n",
      "Requirement already satisfied: s3transfer<0.3.0,>=0.2.0 in /opt/conda/lib/python3.6/site-packages (from boto3->transformers>=2.2.0->bert-score==0.2.2) (0.2.0)\n",
      "Requirement already satisfied: jmespath<1.0.0,>=0.7.1 in /opt/conda/lib/python3.6/site-packages (from boto3->transformers>=2.2.0->bert-score==0.2.2) (0.9.4)\n",
      "Requirement already satisfied: botocore<1.13.0,>=1.12.137 in /opt/conda/lib/python3.6/site-packages (from boto3->transformers>=2.2.0->bert-score==0.2.2) (1.12.137)\n",
      "Requirement already satisfied: docutils>=0.10 in /opt/conda/lib/python3.6/site-packages (from botocore<1.13.0,>=1.12.137->boto3->transformers>=2.2.0->bert-score==0.2.2) (0.14)\n",
      "Building wheels for collected packages: bert-score\n",
      "  Building wheel for bert-score (setup.py) ... \u001b[?25ldone\n",
      "\u001b[?25h  Stored in directory: /tmp/pip-ephem-wheel-cache-9hp48y96/wheels/ff/be/27/5d6127c300e6c65eb2119a57096b1d20e5ca095c2e1e2bf6f2\n",
      "Successfully built bert-score\n",
      "Installing collected packages: bert-score\n",
      "  Found existing installation: bert-score 0.2.2\n",
      "    Uninstalling bert-score-0.2.2:\n",
      "      Successfully uninstalled bert-score-0.2.2\n",
      "Successfully installed bert-score-0.2.2\n",
      "Note: you may need to restart the kernel to use updated packages.\n"
     ]
    }
   ],
   "source": [
    "pip install ."
   ]
  },
  {
   "cell_type": "code",
   "execution_count": 24,
   "metadata": {},
   "outputs": [
    {
     "name": "stdout",
     "output_type": "stream",
     "text": [
      "100%|███████████████████████████████| 898823/898823 [00:00<00:00, 1639541.40B/s]\n",
      "100%|███████████████████████████████| 456318/456318 [00:00<00:00, 1356479.11B/s]\n",
      "/opt/conda/lib/python3.6/site-packages/transformers/tokenization_gpt2.py:125: ResourceWarning: unclosed file <_io.TextIOWrapper name='/home/jovyan/.cache/torch/transformers/1ae1f5b6e2b22b25ccc04c000bb79ca847aa226d0761536b011cf7e5868f0655.ef00af9e673c7160b4d41cfda1f48c5f4cba57d5142754525572a846a1ab1b9b' mode='r' encoding='utf-8'>\n",
      "  self.encoder = json.load(open(vocab_file, encoding=\"utf-8\"))\n",
      "/opt/conda/lib/python3.6/site-packages/transformers/tokenization_gpt2.py:130: ResourceWarning: unclosed file <_io.TextIOWrapper name='/home/jovyan/.cache/torch/transformers/f8f83199a6270d582d6245dc100e99c4155de81c9745c6248077018fe01abcfb.70bec105b4158ed9a1747fea67a43f5dee97855c64d62b6ec3742f4cfdb5feda' mode='r' encoding='utf-8'>\n",
      "  bpe_data = open(merges_file, encoding='utf-8').read().split('\\n')[1:-1]\n",
      "100%|██████████████████████████████████████| 474/474 [00:00<00:00, 283164.81B/s]\n",
      "100%|███████████████████████| 1425941629/1425941629 [05:57<00:00, 3988082.31B/s]\n",
      "[0.9837870597839355, 0.9754737615585327, 0.8947392106056213] [0.9827188849449158, 0.9697769284248352, 0.9172919988632202] [0.9832527041435242, 0.972616970539093, 0.9058752059936523]\n",
      ".[0.9843301177024841, 0.9832240343093872, 0.9120386242866516] [0.9823837876319885, 0.9732863306999207, 0.9204290509223938] [0.9833559989929199, 0.9782299995422363, 0.916214644908905]\n",
      ".\n",
      "----------------------------------------------------------------------\n",
      "Ran 2 tests in 437.004s\n",
      "\n",
      "OK\n"
     ]
    }
   ],
   "source": [
    "!python -m unittest discover"
   ]
  },
  {
   "cell_type": "code",
   "execution_count": 26,
   "metadata": {},
   "outputs": [
    {
     "name": "stdout",
     "output_type": "stream",
     "text": [
      "roberta-large_L17_no-idf_version=0.2.2 BERT-P: 0.957379 BERT-R: 0.961325 BERT-F1: 0.959333\n",
      "^C\n"
     ]
    }
   ],
   "source": [
    "# evaluate english text files\n",
    "# !bert-score -r example/refs.txt -c example/hyps.txt --lang en"
   ]
  },
  {
   "cell_type": "code",
   "execution_count": 27,
   "metadata": {},
   "outputs": [],
   "source": [
    "# hide the loading messages\n",
    "import logging\n",
    "import transformers\n",
    "transformers.tokenization_utils.logger.setLevel(logging.ERROR)\n",
    "transformers.configuration_utils.logger.setLevel(logging.ERROR)\n",
    "transformers.modeling_utils.logger.setLevel(logging.ERROR)"
   ]
  },
  {
   "cell_type": "code",
   "execution_count": 28,
   "metadata": {},
   "outputs": [],
   "source": [
    "from bert_score import score"
   ]
  },
  {
   "cell_type": "code",
   "execution_count": 30,
   "metadata": {},
   "outputs": [],
   "source": [
    "# Inputs to score are a list of candidate sentences and a list of reference sentences.\n",
    "with open(\"example/hyps.txt\") as f:\n",
    "    cands = [line.strip() for line in f]\n",
    "\n",
    "with open(\"example/refs.txt\") as f:\n",
    "    refs = [line.strip() for line in f]"
   ]
  },
  {
   "cell_type": "code",
   "execution_count": 31,
   "metadata": {},
   "outputs": [
    {
     "data": {
      "text/plain": [
       "'28-year-old chef found dead in San Francisco mall'"
      ]
     },
     "execution_count": 31,
     "metadata": {},
     "output_type": "execute_result"
    }
   ],
   "source": [
    "# check for line correctness\n",
    "cands[0]"
   ]
  },
  {
   "cell_type": "code",
   "execution_count": 32,
   "metadata": {},
   "outputs": [
    {
     "name": "stdout",
     "output_type": "stream",
     "text": [
      "calculating scores...\n",
      "computing bert embedding.\n"
     ]
    },
    {
     "data": {
      "application/vnd.jupyter.widget-view+json": {
       "model_id": "b6f2c45edd614faeb6c79a8c5e1f03e1",
       "version_major": 2,
       "version_minor": 0
      },
      "text/plain": [
       "HBox(children=(FloatProgress(value=0.0, max=1.0), HTML(value='')))"
      ]
     },
     "metadata": {},
     "output_type": "display_data"
    },
    {
     "name": "stdout",
     "output_type": "stream",
     "text": [
      "\n",
      "computing greedy matching.\n"
     ]
    },
    {
     "data": {
      "application/vnd.jupyter.widget-view+json": {
       "model_id": "c90a79219a3248b38f3ab86581be3ec2",
       "version_major": 2,
       "version_minor": 0
      },
      "text/plain": [
       "HBox(children=(FloatProgress(value=0.0, max=1.0), HTML(value='')))"
      ]
     },
     "metadata": {},
     "output_type": "display_data"
    },
    {
     "name": "stdout",
     "output_type": "stream",
     "text": [
      "\n",
      "done in 3.90 seconds, 2.57 sentences/sec\n"
     ]
    }
   ],
   "source": [
    "# calculate the score\n",
    "P, R, F1 = score(cands, refs, lang='en', verbose=True)"
   ]
  },
  {
   "cell_type": "code",
   "execution_count": 33,
   "metadata": {},
   "outputs": [
    {
     "data": {
      "text/plain": [
       "tensor([0.9834, 0.9782, 0.9162, 0.9589, 0.9675, 0.9680, 0.9602, 0.9663, 0.9438,\n",
       "        0.9508])"
      ]
     },
     "execution_count": 33,
     "metadata": {},
     "output_type": "execute_result"
    }
   ],
   "source": [
    "# The outputs of the score function are Tensors of precision, recall, and F1 respectively. \n",
    "# Each Tensor has the same number of items with the candidate and reference lists. \n",
    "# Each item in the list is a scalar, representing the score for the corresponding candidates and references.\n",
    "F1"
   ]
  },
  {
   "cell_type": "code",
   "execution_count": 34,
   "metadata": {},
   "outputs": [
    {
     "name": "stdout",
     "output_type": "stream",
     "text": [
      "System level F1 score: 0.959\n"
     ]
    }
   ],
   "source": [
    "print(f\"System level F1 score: {F1.mean():.3f}\")"
   ]
  },
  {
   "cell_type": "code",
   "execution_count": null,
   "metadata": {},
   "outputs": [],
   "source": []
  }
 ],
 "metadata": {
  "kernelspec": {
   "display_name": "Python 3",
   "language": "python",
   "name": "python3"
  },
  "language_info": {
   "codemirror_mode": {
    "name": "ipython",
    "version": 3
   },
   "file_extension": ".py",
   "mimetype": "text/x-python",
   "name": "python",
   "nbconvert_exporter": "python",
   "pygments_lexer": "ipython3",
   "version": "3.6.8"
  }
 },
 "nbformat": 4,
 "nbformat_minor": 2
}
